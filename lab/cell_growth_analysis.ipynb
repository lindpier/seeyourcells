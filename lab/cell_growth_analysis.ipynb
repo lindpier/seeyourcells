{
  "nbformat": 4,
  "nbformat_minor": 0,
  "metadata": {
    "colab": {
      "name": "cell_growth_analysis.ipynb",
      "provenance": [],
      "collapsed_sections": [],
      "toc_visible": true
    },
    "kernelspec": {
      "name": "python3",
      "display_name": "Python 3"
    },
    "accelerator": "GPU"
  },
  "cells": [
    {
      "cell_type": "markdown",
      "metadata": {
        "id": "wM1Aers4Cn0D"
      },
      "source": [
        "#Evaluatin of stem cell growth tendency according to cell aging    \n",
        "\n",
        "A: number of activa cells   \n",
        "B: number of dormant cells  \n",
        "C: number of aged cells   \n",
        "(Disregard the other classes)"
      ]
    },
    {
      "cell_type": "code",
      "metadata": {
        "id": "79_Uo1XNxrs-",
        "outputId": "b4058e95-23ca-4083-e39a-27e5057b0d82",
        "colab": {
          "base_uri": "https://localhost:8080/"
        }
      },
      "source": [
        "%tensorflow_version 1.x"
      ],
      "execution_count": 1,
      "outputs": [
        {
          "output_type": "stream",
          "text": [
            "TensorFlow 1.x selected.\n"
          ],
          "name": "stdout"
        }
      ]
    },
    {
      "cell_type": "code",
      "metadata": {
        "id": "FFw7JPmwxx7U"
      },
      "source": [
        "import math\n",
        "import numpy as np\n",
        "import pandas as pd"
      ],
      "execution_count": 2,
      "outputs": []
    },
    {
      "cell_type": "markdown",
      "metadata": {
        "id": "63_Ql3kDJ8yj"
      },
      "source": [
        "###Mathmatical model for cell expansion by in vitro culture  \n",
        "A: Number of initial cell seeding  \n",
        "D: Cell yield at passage\n",
        "\n",
        "A * 2**x = D\n",
        "\n",
        "<b>Class A만 있다고 가정할 때</b>  \n",
        "\n",
        "<i> Cell body가 큰 경우 (species-dependent trait-hMSCs or rabbitMSCs)</i>  \n",
        "A = 5 * 10^5   \n",
        "D = 2 * 10^6  \n",
        "x = 2\n",
        "\n",
        "<i>Cell body가 작은경우 (mouse MSCs?)</i>  \n",
        "A = 5 * 10^5   \n",
        "D = 4 * 10^6  \n",
        "x = 3\n",
        "\n",
        "\n",
        "<b>3가지 class의 cell이 섞여있다고 가정할 때</b>  \n",
        "\n",
        "A: ratio of cells in class A (less than 16 hr after seeding)  \n",
        "B: ratio of cells in class B  \n",
        "C: ratio of cells in class C  \n",
        "D: Cell yield at passage  \n",
        "T: Days needed to reach confluence  \n",
        "\n",
        "X: 2^x  \n",
        "Y: 2^y  \n",
        "Z: 2^z  \n",
        "\n",
        "A*X + B*Y + C*Z = D\n",
        "\n"
      ]
    },
    {
      "cell_type": "markdown",
      "metadata": {
        "id": "NfrMX_Sht0Lr"
      },
      "source": [
        "#배양기간 고려하지 않고 Cell yield로만 계산하면\n",
        "(When D was not normalized by T)\n",
        "\n",
        "**Cell yield = (a*X) + (b*Y) + (c*Z)**  \n"
      ]
    },
    {
      "cell_type": "code",
      "metadata": {
        "id": "GW2o0cfLuodY",
        "outputId": "94651076-d9a0-4bbd-b3ad-b3e363d707aa",
        "colab": {
          "base_uri": "https://localhost:8080/"
        }
      },
      "source": [
        "X=16.97\n",
        "Y=8.76\n",
        "Z=1.42\n",
        "print(\"x는 \", math.log(X, 2), \"입니다\")\n",
        "print(\"y는 \", math.log(Y, 2), \"입니다\")\n",
        "print(\"z는 \", math.log(Z, 2), \"입니다\")\n",
        "print(\"2**x =\",2**math.log(X, 2))\n",
        "print(\"2**y =\",2**math.log(Y, 2))\n",
        "print(\"2**z =\",2**math.log(Z, 2))\n"
      ],
      "execution_count": 4,
      "outputs": [
        {
          "output_type": "stream",
          "text": [
            "x는  4.084914659767938 입니다\n",
            "y는  3.130930869826449 입니다\n",
            "z는  0.5058909297299573 입니다\n",
            "2**x = 16.97\n",
            "2**y = 8.760000000000002\n",
            "2**z = 1.42\n"
          ],
          "name": "stdout"
        }
      ]
    },
    {
      "cell_type": "code",
      "metadata": {
        "id": "i_CS7J_WyB94"
      },
      "source": [
        "# Class 별 세포분열 경향 \n",
        "# X=2**x\n",
        "# Y=2**y\n",
        "# Z=2**z\n",
        "\n",
        "# Cell yield = (a*X) + (b*Y) + (c*Z)\n",
        "# a: number of cells in Class A\n",
        "# b: number of cells in Class B\n",
        "# c: number of cells in Class C\n",
        "# Disregard the other classes\n",
        "\n",
        "x=4.0849\n",
        "y=3.1309\n",
        "z=0.5058\n"
      ],
      "execution_count": 5,
      "outputs": []
    },
    {
      "cell_type": "markdown",
      "metadata": {
        "id": "_wu_ZFKQuE8C"
      },
      "source": [
        "#Cell growth rate로 계산하면\n",
        "(When D was normalized by T)  \n",
        "Growth rate = (cell yield)/time  \n",
        "\n",
        "**Cell yield/Time(days) = (a*X) + (b*Y) + (c*Z)**  \n",
        "a: number of cells in Class A  \n",
        "b: number of cells in Class B  \n",
        "c: number of cells in Class C  \n",
        "(Disregard the other classes)\n",
        "\n"
      ]
    },
    {
      "cell_type": "code",
      "metadata": {
        "id": "Yb5cNcJcuE8D",
        "outputId": "fccf95d9-789c-4520-d946-dffe4f5477a7",
        "colab": {
          "base_uri": "https://localhost:8080/",
          "height": 123
        }
      },
      "source": [
        "X=7.95\n",
        "Y=3.88\n",
        "Z=3.09 #실제로 Z값은 단순 방정식으로 풀었기 때문에-3.09이나, 지수방정식을 풀기 위해 음수를 없애줌. 나중에 -2^z로 적용\n",
        "print(\"x는 \", math.log(X, 2), \"입니다\")\n",
        "print(\"y는 \", math.log(Y, 2), \"입니다\")\n",
        "print(\"z는 \", math.log(Z, 2), \"입니다\")\n",
        "print(\"2**x =\",2**math.log(X, 2))\n",
        "print(\"2**y =\",2**math.log(Y, 2))\n",
        "print(\"2**z =\",2**math.log(Z, 2))\n"
      ],
      "execution_count": null,
      "outputs": [
        {
          "output_type": "stream",
          "text": [
            "x는  2.990954860396993 입니다\n",
            "y는  1.956056652412403 입니다\n",
            "z는  1.6276068381296498 입니다\n",
            "2**x = 7.95\n",
            "2**y = 3.88\n",
            "2**z = 3.09\n"
          ],
          "name": "stdout"
        }
      ]
    },
    {
      "cell_type": "code",
      "metadata": {
        "id": "hTnfO3YKuE8H"
      },
      "source": [
        "# Class 별 세포분열 경향 \n",
        "# X=2**x \n",
        "# Y=2**y \n",
        "# Z=2**z \n",
        "\n",
        "# d/T = (a*X) + (b*Y) + (c*Z)\n",
        "# a: number of cells in Class A\n",
        "# b: number of cells in Class B\n",
        "# c: number of cells in Class C\n",
        "# d/T: cell yield per day\n",
        "\n",
        "x=2.99\n",
        "y=1.96\n",
        "z=1.63\n"
      ],
      "execution_count": null,
      "outputs": []
    },
    {
      "cell_type": "markdown",
      "metadata": {
        "id": "RCGrsjCBFZ-6"
      },
      "source": [
        "#Passage 별 data에 검산\n",
        "<b> 예측 simulation</b>\n",
        "- Passage 별 cell yield\n",
        "- Confluence에 도달하는데 걸리는 시간\n",
        "- 다음 passage의 quality\n"
      ]
    },
    {
      "cell_type": "markdown",
      "metadata": {
        "id": "WAxTnDB6Ts7S"
      },
      "source": [
        "#Passage 경과에 따른 PDT 변화 요인 분석\n",
        "###pandas로 data 상관계수 분석"
      ]
    }
  ]
}